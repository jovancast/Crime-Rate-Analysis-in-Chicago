{
 "cells": [
  {
   "cell_type": "markdown",
   "metadata": {},
   "source": [
    "# MILESTONE 1\n",
    "\n",
    "### Full Time Data Science\n",
    "---\n",
    "\n",
    "- Dashboard:\n",
    "https://public.tableau.com/views/milestone1_jovanca_stevani/Dashboard1?:language=en-US&publish=yes&:display_count=n&:origin=viz_share_link"
   ]
  },
  {
   "cell_type": "markdown",
   "metadata": {},
   "source": [
    "## Introduction\n",
    "\n",
    "\n",
    "Name : Jovanca Stevani Tanjung\n",
    "\n",
    "Batch 002 HCK"
   ]
  },
  {
   "cell_type": "markdown",
   "metadata": {},
   "source": [
    "## Problem Statement\n",
    "### Analyzing crime rate occured in Chicago city in year 2022.\n"
   ]
  },
  {
   "cell_type": "markdown",
   "metadata": {},
   "source": [
    "## Problem Description\n",
    "\n",
    "1. What are 5 crimes that occurred the most in Chicago city in the year 2022?\n",
    "2. What are 3 districts that occurred crimes the most in Chicago in the year 2022?\n",
    "3. How many theft cases occurred in the 3 districts with the most theft crimes in 2022.\n",
    "4. What type of theft has happened the most in district 1?\n",
    "5. What is the mean, median and mode of theft cases from overall and from 3 districts with the most theft crimes.\n",
    "6. The influence of district on the arrest status in district 1.\n"
   ]
  },
  {
   "cell_type": "markdown",
   "metadata": {},
   "source": [
    "## Data Loading"
   ]
  },
  {
   "cell_type": "markdown",
   "metadata": {},
   "source": [
    "import libraries which gonna be used in this analysis"
   ]
  },
  {
   "cell_type": "code",
   "execution_count": 350,
   "metadata": {},
   "outputs": [],
   "source": [
    "import pandas as pd\n",
    "import numpy as np\n",
    "import matplotlib.pyplot as plt\n",
    "import seaborn as sns\n",
    "from scipy import stats"
   ]
  },
  {
   "cell_type": "code",
   "execution_count": 311,
   "metadata": {},
   "outputs": [
    {
     "data": {
      "text/html": [
       "<div>\n",
       "<style scoped>\n",
       "    .dataframe tbody tr th:only-of-type {\n",
       "        vertical-align: middle;\n",
       "    }\n",
       "\n",
       "    .dataframe tbody tr th {\n",
       "        vertical-align: top;\n",
       "    }\n",
       "\n",
       "    .dataframe thead th {\n",
       "        text-align: right;\n",
       "    }\n",
       "</style>\n",
       "<table border=\"1\" class=\"dataframe\">\n",
       "  <thead>\n",
       "    <tr style=\"text-align: right;\">\n",
       "      <th></th>\n",
       "      <th>unique_key</th>\n",
       "      <th>case_number</th>\n",
       "      <th>date</th>\n",
       "      <th>block</th>\n",
       "      <th>iucr</th>\n",
       "      <th>primary_type</th>\n",
       "      <th>description</th>\n",
       "      <th>location_description</th>\n",
       "      <th>arrest</th>\n",
       "      <th>domestic</th>\n",
       "      <th>...</th>\n",
       "      <th>ward</th>\n",
       "      <th>community_area</th>\n",
       "      <th>fbi_code</th>\n",
       "      <th>x_coordinate</th>\n",
       "      <th>y_coordinate</th>\n",
       "      <th>year</th>\n",
       "      <th>updated_on</th>\n",
       "      <th>latitude</th>\n",
       "      <th>longitude</th>\n",
       "      <th>location</th>\n",
       "    </tr>\n",
       "  </thead>\n",
       "  <tbody>\n",
       "    <tr>\n",
       "      <th>0</th>\n",
       "      <td>26735</td>\n",
       "      <td>JF225985</td>\n",
       "      <td>2022-04-30 11:19:00 UTC</td>\n",
       "      <td>005XX E 106TH ST</td>\n",
       "      <td>0110</td>\n",
       "      <td>HOMICIDE</td>\n",
       "      <td>FIRST DEGREE MURDER</td>\n",
       "      <td>ALLEY</td>\n",
       "      <td>True</td>\n",
       "      <td>False</td>\n",
       "      <td>...</td>\n",
       "      <td>9.0</td>\n",
       "      <td>49</td>\n",
       "      <td>01A</td>\n",
       "      <td>1181917.0</td>\n",
       "      <td>1834793.0</td>\n",
       "      <td>2022</td>\n",
       "      <td>2022-09-18 04:45:51 UTC</td>\n",
       "      <td>41.701895</td>\n",
       "      <td>-87.609487</td>\n",
       "      <td>(41.701895341, -87.60948662)</td>\n",
       "    </tr>\n",
       "    <tr>\n",
       "      <th>1</th>\n",
       "      <td>26716</td>\n",
       "      <td>JD241157</td>\n",
       "      <td>2022-01-04 09:26:00 UTC</td>\n",
       "      <td>000XX W 105TH ST</td>\n",
       "      <td>0110</td>\n",
       "      <td>HOMICIDE</td>\n",
       "      <td>FIRST DEGREE MURDER</td>\n",
       "      <td>STREET</td>\n",
       "      <td>False</td>\n",
       "      <td>False</td>\n",
       "      <td>...</td>\n",
       "      <td>34.0</td>\n",
       "      <td>49</td>\n",
       "      <td>01A</td>\n",
       "      <td>1177877.0</td>\n",
       "      <td>1835347.0</td>\n",
       "      <td>2022</td>\n",
       "      <td>2022-09-18 04:45:51 UTC</td>\n",
       "      <td>41.703508</td>\n",
       "      <td>-87.624263</td>\n",
       "      <td>(41.703507823, -87.624263094)</td>\n",
       "    </tr>\n",
       "    <tr>\n",
       "      <th>2</th>\n",
       "      <td>12853594</td>\n",
       "      <td>JF427771</td>\n",
       "      <td>2022-10-08 11:30:00 UTC</td>\n",
       "      <td>003XX W 105TH PL</td>\n",
       "      <td>0281</td>\n",
       "      <td>CRIMINAL SEXUAL ASSAULT</td>\n",
       "      <td>NON-AGGRAVATED</td>\n",
       "      <td>RESIDENCE</td>\n",
       "      <td>False</td>\n",
       "      <td>False</td>\n",
       "      <td>...</td>\n",
       "      <td>34.0</td>\n",
       "      <td>49</td>\n",
       "      <td>02</td>\n",
       "      <td>NaN</td>\n",
       "      <td>NaN</td>\n",
       "      <td>2022</td>\n",
       "      <td>2022-10-24 04:47:03 UTC</td>\n",
       "      <td>NaN</td>\n",
       "      <td>NaN</td>\n",
       "      <td>NaN</td>\n",
       "    </tr>\n",
       "    <tr>\n",
       "      <th>3</th>\n",
       "      <td>12774587</td>\n",
       "      <td>JF333702</td>\n",
       "      <td>2022-07-27 02:55:00 UTC</td>\n",
       "      <td>104XX S STATE ST</td>\n",
       "      <td>031A</td>\n",
       "      <td>ROBBERY</td>\n",
       "      <td>ARMED - HANDGUN</td>\n",
       "      <td>RESIDENCE</td>\n",
       "      <td>False</td>\n",
       "      <td>False</td>\n",
       "      <td>...</td>\n",
       "      <td>34.0</td>\n",
       "      <td>49</td>\n",
       "      <td>03</td>\n",
       "      <td>NaN</td>\n",
       "      <td>NaN</td>\n",
       "      <td>2022</td>\n",
       "      <td>2022-10-24 04:47:03 UTC</td>\n",
       "      <td>NaN</td>\n",
       "      <td>NaN</td>\n",
       "      <td>NaN</td>\n",
       "    </tr>\n",
       "    <tr>\n",
       "      <th>4</th>\n",
       "      <td>12838326</td>\n",
       "      <td>JF409392</td>\n",
       "      <td>2022-09-24 12:00:00 UTC</td>\n",
       "      <td>003XX W 104TH ST</td>\n",
       "      <td>031A</td>\n",
       "      <td>ROBBERY</td>\n",
       "      <td>ARMED - HANDGUN</td>\n",
       "      <td>ALLEY</td>\n",
       "      <td>False</td>\n",
       "      <td>False</td>\n",
       "      <td>...</td>\n",
       "      <td>34.0</td>\n",
       "      <td>49</td>\n",
       "      <td>03</td>\n",
       "      <td>NaN</td>\n",
       "      <td>NaN</td>\n",
       "      <td>2022</td>\n",
       "      <td>2022-10-24 04:47:03 UTC</td>\n",
       "      <td>NaN</td>\n",
       "      <td>NaN</td>\n",
       "      <td>NaN</td>\n",
       "    </tr>\n",
       "  </tbody>\n",
       "</table>\n",
       "<p>5 rows × 22 columns</p>\n",
       "</div>"
      ],
      "text/plain": [
       "   unique_key case_number                     date             block  iucr  \\\n",
       "0       26735    JF225985  2022-04-30 11:19:00 UTC  005XX E 106TH ST  0110   \n",
       "1       26716    JD241157  2022-01-04 09:26:00 UTC  000XX W 105TH ST  0110   \n",
       "2    12853594    JF427771  2022-10-08 11:30:00 UTC  003XX W 105TH PL  0281   \n",
       "3    12774587    JF333702  2022-07-27 02:55:00 UTC  104XX S STATE ST  031A   \n",
       "4    12838326    JF409392  2022-09-24 12:00:00 UTC  003XX W 104TH ST  031A   \n",
       "\n",
       "              primary_type          description location_description  arrest  \\\n",
       "0                 HOMICIDE  FIRST DEGREE MURDER                ALLEY    True   \n",
       "1                 HOMICIDE  FIRST DEGREE MURDER               STREET   False   \n",
       "2  CRIMINAL SEXUAL ASSAULT       NON-AGGRAVATED            RESIDENCE   False   \n",
       "3                  ROBBERY      ARMED - HANDGUN            RESIDENCE   False   \n",
       "4                  ROBBERY      ARMED - HANDGUN                ALLEY   False   \n",
       "\n",
       "   domestic  ...  ward  community_area  fbi_code  x_coordinate y_coordinate  \\\n",
       "0     False  ...   9.0              49       01A     1181917.0    1834793.0   \n",
       "1     False  ...  34.0              49       01A     1177877.0    1835347.0   \n",
       "2     False  ...  34.0              49        02           NaN          NaN   \n",
       "3     False  ...  34.0              49        03           NaN          NaN   \n",
       "4     False  ...  34.0              49        03           NaN          NaN   \n",
       "\n",
       "   year               updated_on   latitude  longitude  \\\n",
       "0  2022  2022-09-18 04:45:51 UTC  41.701895 -87.609487   \n",
       "1  2022  2022-09-18 04:45:51 UTC  41.703508 -87.624263   \n",
       "2  2022  2022-10-24 04:47:03 UTC        NaN        NaN   \n",
       "3  2022  2022-10-24 04:47:03 UTC        NaN        NaN   \n",
       "4  2022  2022-10-24 04:47:03 UTC        NaN        NaN   \n",
       "\n",
       "                        location  \n",
       "0   (41.701895341, -87.60948662)  \n",
       "1  (41.703507823, -87.624263094)  \n",
       "2                            NaN  \n",
       "3                            NaN  \n",
       "4                            NaN  \n",
       "\n",
       "[5 rows x 22 columns]"
      ]
     },
     "execution_count": 311,
     "metadata": {},
     "output_type": "execute_result"
    }
   ],
   "source": [
    "df = pd.read_csv('chicago_crime.csv')\n",
    "df.head()"
   ]
  },
  {
   "cell_type": "code",
   "execution_count": 312,
   "metadata": {},
   "outputs": [
    {
     "data": {
      "text/html": [
       "<div>\n",
       "<style scoped>\n",
       "    .dataframe tbody tr th:only-of-type {\n",
       "        vertical-align: middle;\n",
       "    }\n",
       "\n",
       "    .dataframe tbody tr th {\n",
       "        vertical-align: top;\n",
       "    }\n",
       "\n",
       "    .dataframe thead th {\n",
       "        text-align: right;\n",
       "    }\n",
       "</style>\n",
       "<table border=\"1\" class=\"dataframe\">\n",
       "  <thead>\n",
       "    <tr style=\"text-align: right;\">\n",
       "      <th></th>\n",
       "      <th>unique_key</th>\n",
       "      <th>case_number</th>\n",
       "      <th>date</th>\n",
       "      <th>block</th>\n",
       "      <th>iucr</th>\n",
       "      <th>primary_type</th>\n",
       "      <th>description</th>\n",
       "      <th>location_description</th>\n",
       "      <th>arrest</th>\n",
       "      <th>domestic</th>\n",
       "      <th>...</th>\n",
       "      <th>ward</th>\n",
       "      <th>community_area</th>\n",
       "      <th>fbi_code</th>\n",
       "      <th>x_coordinate</th>\n",
       "      <th>y_coordinate</th>\n",
       "      <th>year</th>\n",
       "      <th>updated_on</th>\n",
       "      <th>latitude</th>\n",
       "      <th>longitude</th>\n",
       "      <th>location</th>\n",
       "    </tr>\n",
       "  </thead>\n",
       "  <tbody>\n",
       "    <tr>\n",
       "      <th>184032</th>\n",
       "      <td>12853438</td>\n",
       "      <td>JF427588</td>\n",
       "      <td>2022-10-09 05:43:00 UTC</td>\n",
       "      <td>021XX S MARSHALL BLVD</td>\n",
       "      <td>1477</td>\n",
       "      <td>WEAPONS VIOLATION</td>\n",
       "      <td>RECKLESS FIREARM DISCHARGE</td>\n",
       "      <td>STREET</td>\n",
       "      <td>False</td>\n",
       "      <td>False</td>\n",
       "      <td>...</td>\n",
       "      <td>12.0</td>\n",
       "      <td>30</td>\n",
       "      <td>15</td>\n",
       "      <td>NaN</td>\n",
       "      <td>NaN</td>\n",
       "      <td>2022</td>\n",
       "      <td>2022-10-24 04:47:03 UTC</td>\n",
       "      <td>NaN</td>\n",
       "      <td>NaN</td>\n",
       "      <td>NaN</td>\n",
       "    </tr>\n",
       "    <tr>\n",
       "      <th>184033</th>\n",
       "      <td>12713784</td>\n",
       "      <td>JF260269</td>\n",
       "      <td>2022-05-29 05:18:00 UTC</td>\n",
       "      <td>019XX S FAIRFIELD AVE</td>\n",
       "      <td>1477</td>\n",
       "      <td>WEAPONS VIOLATION</td>\n",
       "      <td>RECKLESS FIREARM DISCHARGE</td>\n",
       "      <td>STREET</td>\n",
       "      <td>False</td>\n",
       "      <td>False</td>\n",
       "      <td>...</td>\n",
       "      <td>12.0</td>\n",
       "      <td>30</td>\n",
       "      <td>15</td>\n",
       "      <td>NaN</td>\n",
       "      <td>NaN</td>\n",
       "      <td>2022</td>\n",
       "      <td>2022-10-24 04:47:03 UTC</td>\n",
       "      <td>NaN</td>\n",
       "      <td>NaN</td>\n",
       "      <td>NaN</td>\n",
       "    </tr>\n",
       "    <tr>\n",
       "      <th>184034</th>\n",
       "      <td>12772235</td>\n",
       "      <td>JF330987</td>\n",
       "      <td>2022-01-13 07:00:00 UTC</td>\n",
       "      <td>028XX W CULLERTON ST</td>\n",
       "      <td>2825</td>\n",
       "      <td>OTHER OFFENSE</td>\n",
       "      <td>HARASSMENT BY TELEPHONE</td>\n",
       "      <td>APARTMENT</td>\n",
       "      <td>False</td>\n",
       "      <td>True</td>\n",
       "      <td>...</td>\n",
       "      <td>12.0</td>\n",
       "      <td>30</td>\n",
       "      <td>26</td>\n",
       "      <td>NaN</td>\n",
       "      <td>NaN</td>\n",
       "      <td>2022</td>\n",
       "      <td>2022-10-24 04:47:03 UTC</td>\n",
       "      <td>NaN</td>\n",
       "      <td>NaN</td>\n",
       "      <td>NaN</td>\n",
       "    </tr>\n",
       "    <tr>\n",
       "      <th>184035</th>\n",
       "      <td>12598345</td>\n",
       "      <td>JF120017</td>\n",
       "      <td>2022-01-20 02:37:00 UTC</td>\n",
       "      <td>025XX W CERMAK RD</td>\n",
       "      <td>4387</td>\n",
       "      <td>OTHER OFFENSE</td>\n",
       "      <td>VIOLATE ORDER OF PROTECTION</td>\n",
       "      <td>SMALL RETAIL STORE</td>\n",
       "      <td>False</td>\n",
       "      <td>True</td>\n",
       "      <td>...</td>\n",
       "      <td>28.0</td>\n",
       "      <td>31</td>\n",
       "      <td>26</td>\n",
       "      <td>1159883.0</td>\n",
       "      <td>1889319.0</td>\n",
       "      <td>2022</td>\n",
       "      <td>2022-10-11 04:45:59 UTC</td>\n",
       "      <td>41.852002</td>\n",
       "      <td>-87.688672</td>\n",
       "      <td>(41.852002281, -87.688672081)</td>\n",
       "    </tr>\n",
       "    <tr>\n",
       "      <th>184036</th>\n",
       "      <td>12806659</td>\n",
       "      <td>JF371680</td>\n",
       "      <td>2022-08-26 05:34:00 UTC</td>\n",
       "      <td>015XX S FAIRFIELD AVE</td>\n",
       "      <td>5111</td>\n",
       "      <td>OTHER OFFENSE</td>\n",
       "      <td>GUN OFFENDER - ANNUAL REGISTRATION</td>\n",
       "      <td>HOSPITAL BUILDING / GROUNDS</td>\n",
       "      <td>True</td>\n",
       "      <td>False</td>\n",
       "      <td>...</td>\n",
       "      <td>28.0</td>\n",
       "      <td>29</td>\n",
       "      <td>26</td>\n",
       "      <td>NaN</td>\n",
       "      <td>NaN</td>\n",
       "      <td>2022</td>\n",
       "      <td>2022-10-24 04:47:03 UTC</td>\n",
       "      <td>NaN</td>\n",
       "      <td>NaN</td>\n",
       "      <td>NaN</td>\n",
       "    </tr>\n",
       "  </tbody>\n",
       "</table>\n",
       "<p>5 rows × 22 columns</p>\n",
       "</div>"
      ],
      "text/plain": [
       "        unique_key case_number                     date  \\\n",
       "184032    12853438    JF427588  2022-10-09 05:43:00 UTC   \n",
       "184033    12713784    JF260269  2022-05-29 05:18:00 UTC   \n",
       "184034    12772235    JF330987  2022-01-13 07:00:00 UTC   \n",
       "184035    12598345    JF120017  2022-01-20 02:37:00 UTC   \n",
       "184036    12806659    JF371680  2022-08-26 05:34:00 UTC   \n",
       "\n",
       "                        block  iucr       primary_type  \\\n",
       "184032  021XX S MARSHALL BLVD  1477  WEAPONS VIOLATION   \n",
       "184033  019XX S FAIRFIELD AVE  1477  WEAPONS VIOLATION   \n",
       "184034   028XX W CULLERTON ST  2825      OTHER OFFENSE   \n",
       "184035      025XX W CERMAK RD  4387      OTHER OFFENSE   \n",
       "184036  015XX S FAIRFIELD AVE  5111      OTHER OFFENSE   \n",
       "\n",
       "                               description         location_description  \\\n",
       "184032          RECKLESS FIREARM DISCHARGE                       STREET   \n",
       "184033          RECKLESS FIREARM DISCHARGE                       STREET   \n",
       "184034             HARASSMENT BY TELEPHONE                    APARTMENT   \n",
       "184035         VIOLATE ORDER OF PROTECTION           SMALL RETAIL STORE   \n",
       "184036  GUN OFFENDER - ANNUAL REGISTRATION  HOSPITAL BUILDING / GROUNDS   \n",
       "\n",
       "        arrest  domestic  ...  ward  community_area  fbi_code  x_coordinate  \\\n",
       "184032   False     False  ...  12.0              30        15           NaN   \n",
       "184033   False     False  ...  12.0              30        15           NaN   \n",
       "184034   False      True  ...  12.0              30        26           NaN   \n",
       "184035   False      True  ...  28.0              31        26     1159883.0   \n",
       "184036    True     False  ...  28.0              29        26           NaN   \n",
       "\n",
       "       y_coordinate  year               updated_on   latitude  longitude  \\\n",
       "184032          NaN  2022  2022-10-24 04:47:03 UTC        NaN        NaN   \n",
       "184033          NaN  2022  2022-10-24 04:47:03 UTC        NaN        NaN   \n",
       "184034          NaN  2022  2022-10-24 04:47:03 UTC        NaN        NaN   \n",
       "184035    1889319.0  2022  2022-10-11 04:45:59 UTC  41.852002 -87.688672   \n",
       "184036          NaN  2022  2022-10-24 04:47:03 UTC        NaN        NaN   \n",
       "\n",
       "                             location  \n",
       "184032                            NaN  \n",
       "184033                            NaN  \n",
       "184034                            NaN  \n",
       "184035  (41.852002281, -87.688672081)  \n",
       "184036                            NaN  \n",
       "\n",
       "[5 rows x 22 columns]"
      ]
     },
     "execution_count": 312,
     "metadata": {},
     "output_type": "execute_result"
    }
   ],
   "source": [
    "df.tail()"
   ]
  },
  {
   "cell_type": "markdown",
   "metadata": {},
   "source": [
    "After we load the data, then we choose which columns we're going to use for our analysis."
   ]
  },
  {
   "cell_type": "code",
   "execution_count": 313,
   "metadata": {},
   "outputs": [
    {
     "name": "stdout",
     "output_type": "stream",
     "text": [
      "<class 'pandas.core.frame.DataFrame'>\n",
      "RangeIndex: 184037 entries, 0 to 184036\n",
      "Data columns (total 7 columns):\n",
      " #   Column                Non-Null Count   Dtype \n",
      "---  ------                --------------   ----- \n",
      " 0   date                  184037 non-null  object\n",
      " 1   primary_type          184037 non-null  object\n",
      " 2   description           184037 non-null  object\n",
      " 3   location_description  183529 non-null  object\n",
      " 4   arrest                184037 non-null  bool  \n",
      " 5   domestic              184037 non-null  bool  \n",
      " 6   district              184037 non-null  int64 \n",
      "dtypes: bool(2), int64(1), object(4)\n",
      "memory usage: 7.4+ MB\n"
     ]
    }
   ],
   "source": [
    "df_chicago = df.loc[:,['date', 'primary_type', 'description', 'location_description', 'arrest', 'domestic', 'district']]\n",
    "df_chicago.info()"
   ]
  },
  {
   "cell_type": "markdown",
   "metadata": {},
   "source": [
    "After checking the data type from each columns, we can see that the data type of 'date' column is object. so we are going to convert it to datetime. then create a column called 'month' that has a month value from the date column."
   ]
  },
  {
   "cell_type": "code",
   "execution_count": 403,
   "metadata": {},
   "outputs": [
    {
     "data": {
      "text/plain": [
       "False    162379\n",
       "True      21150\n",
       "Name: arrest, dtype: int64"
      ]
     },
     "execution_count": 403,
     "metadata": {},
     "output_type": "execute_result"
    }
   ],
   "source": [
    "df_chicago['date'] = pd.to_datetime(df_chicago['date'])\n",
    "df_chicago['month'] = df_chicago['date'].dt.month\n",
    "df_chicago['arrest'].value_counts()"
   ]
  },
  {
   "cell_type": "markdown",
   "metadata": {},
   "source": [
    "Based on the data, as we can see the total number of False value from arrest column which means that the perpretor is not getting arrested is quite high compared to True value which means the perperator got arrested."
   ]
  },
  {
   "cell_type": "markdown",
   "metadata": {},
   "source": [
    "## Data Cleaning"
   ]
  },
  {
   "cell_type": "code",
   "execution_count": 317,
   "metadata": {},
   "outputs": [
    {
     "data": {
      "text/html": [
       "<div>\n",
       "<style scoped>\n",
       "    .dataframe tbody tr th:only-of-type {\n",
       "        vertical-align: middle;\n",
       "    }\n",
       "\n",
       "    .dataframe tbody tr th {\n",
       "        vertical-align: top;\n",
       "    }\n",
       "\n",
       "    .dataframe thead th {\n",
       "        text-align: right;\n",
       "    }\n",
       "</style>\n",
       "<table border=\"1\" class=\"dataframe\">\n",
       "  <thead>\n",
       "    <tr style=\"text-align: right;\">\n",
       "      <th></th>\n",
       "      <th>date</th>\n",
       "      <th>primary_type</th>\n",
       "      <th>description</th>\n",
       "      <th>location_description</th>\n",
       "      <th>arrest</th>\n",
       "      <th>domestic</th>\n",
       "      <th>district</th>\n",
       "      <th>month</th>\n",
       "    </tr>\n",
       "  </thead>\n",
       "  <tbody>\n",
       "    <tr>\n",
       "      <th>0</th>\n",
       "      <td>2022-04-30 11:19:00+00:00</td>\n",
       "      <td>HOMICIDE</td>\n",
       "      <td>FIRST DEGREE MURDER</td>\n",
       "      <td>ALLEY</td>\n",
       "      <td>True</td>\n",
       "      <td>False</td>\n",
       "      <td>5</td>\n",
       "      <td>4</td>\n",
       "    </tr>\n",
       "    <tr>\n",
       "      <th>1</th>\n",
       "      <td>2022-01-04 09:26:00+00:00</td>\n",
       "      <td>HOMICIDE</td>\n",
       "      <td>FIRST DEGREE MURDER</td>\n",
       "      <td>STREET</td>\n",
       "      <td>False</td>\n",
       "      <td>False</td>\n",
       "      <td>5</td>\n",
       "      <td>1</td>\n",
       "    </tr>\n",
       "    <tr>\n",
       "      <th>2</th>\n",
       "      <td>2022-10-08 11:30:00+00:00</td>\n",
       "      <td>CRIMINAL SEXUAL ASSAULT</td>\n",
       "      <td>NON-AGGRAVATED</td>\n",
       "      <td>RESIDENCE</td>\n",
       "      <td>False</td>\n",
       "      <td>False</td>\n",
       "      <td>5</td>\n",
       "      <td>10</td>\n",
       "    </tr>\n",
       "    <tr>\n",
       "      <th>3</th>\n",
       "      <td>2022-07-27 02:55:00+00:00</td>\n",
       "      <td>ROBBERY</td>\n",
       "      <td>ARMED - HANDGUN</td>\n",
       "      <td>RESIDENCE</td>\n",
       "      <td>False</td>\n",
       "      <td>False</td>\n",
       "      <td>5</td>\n",
       "      <td>7</td>\n",
       "    </tr>\n",
       "    <tr>\n",
       "      <th>4</th>\n",
       "      <td>2022-09-24 12:00:00+00:00</td>\n",
       "      <td>ROBBERY</td>\n",
       "      <td>ARMED - HANDGUN</td>\n",
       "      <td>ALLEY</td>\n",
       "      <td>False</td>\n",
       "      <td>False</td>\n",
       "      <td>5</td>\n",
       "      <td>9</td>\n",
       "    </tr>\n",
       "    <tr>\n",
       "      <th>...</th>\n",
       "      <td>...</td>\n",
       "      <td>...</td>\n",
       "      <td>...</td>\n",
       "      <td>...</td>\n",
       "      <td>...</td>\n",
       "      <td>...</td>\n",
       "      <td>...</td>\n",
       "      <td>...</td>\n",
       "    </tr>\n",
       "    <tr>\n",
       "      <th>183524</th>\n",
       "      <td>2022-10-09 05:43:00+00:00</td>\n",
       "      <td>WEAPONS VIOLATION</td>\n",
       "      <td>RECKLESS FIREARM DISCHARGE</td>\n",
       "      <td>STREET</td>\n",
       "      <td>False</td>\n",
       "      <td>False</td>\n",
       "      <td>10</td>\n",
       "      <td>10</td>\n",
       "    </tr>\n",
       "    <tr>\n",
       "      <th>183525</th>\n",
       "      <td>2022-05-29 05:18:00+00:00</td>\n",
       "      <td>WEAPONS VIOLATION</td>\n",
       "      <td>RECKLESS FIREARM DISCHARGE</td>\n",
       "      <td>STREET</td>\n",
       "      <td>False</td>\n",
       "      <td>False</td>\n",
       "      <td>10</td>\n",
       "      <td>5</td>\n",
       "    </tr>\n",
       "    <tr>\n",
       "      <th>183526</th>\n",
       "      <td>2022-01-13 07:00:00+00:00</td>\n",
       "      <td>OTHER OFFENSE</td>\n",
       "      <td>HARASSMENT BY TELEPHONE</td>\n",
       "      <td>APARTMENT</td>\n",
       "      <td>False</td>\n",
       "      <td>True</td>\n",
       "      <td>10</td>\n",
       "      <td>1</td>\n",
       "    </tr>\n",
       "    <tr>\n",
       "      <th>183527</th>\n",
       "      <td>2022-01-20 02:37:00+00:00</td>\n",
       "      <td>OTHER OFFENSE</td>\n",
       "      <td>VIOLATE ORDER OF PROTECTION</td>\n",
       "      <td>SMALL RETAIL STORE</td>\n",
       "      <td>False</td>\n",
       "      <td>True</td>\n",
       "      <td>10</td>\n",
       "      <td>1</td>\n",
       "    </tr>\n",
       "    <tr>\n",
       "      <th>183528</th>\n",
       "      <td>2022-08-26 05:34:00+00:00</td>\n",
       "      <td>OTHER OFFENSE</td>\n",
       "      <td>GUN OFFENDER - ANNUAL REGISTRATION</td>\n",
       "      <td>HOSPITAL BUILDING / GROUNDS</td>\n",
       "      <td>True</td>\n",
       "      <td>False</td>\n",
       "      <td>10</td>\n",
       "      <td>8</td>\n",
       "    </tr>\n",
       "  </tbody>\n",
       "</table>\n",
       "<p>183529 rows × 8 columns</p>\n",
       "</div>"
      ],
      "text/plain": [
       "                            date             primary_type  \\\n",
       "0      2022-04-30 11:19:00+00:00                 HOMICIDE   \n",
       "1      2022-01-04 09:26:00+00:00                 HOMICIDE   \n",
       "2      2022-10-08 11:30:00+00:00  CRIMINAL SEXUAL ASSAULT   \n",
       "3      2022-07-27 02:55:00+00:00                  ROBBERY   \n",
       "4      2022-09-24 12:00:00+00:00                  ROBBERY   \n",
       "...                          ...                      ...   \n",
       "183524 2022-10-09 05:43:00+00:00        WEAPONS VIOLATION   \n",
       "183525 2022-05-29 05:18:00+00:00        WEAPONS VIOLATION   \n",
       "183526 2022-01-13 07:00:00+00:00            OTHER OFFENSE   \n",
       "183527 2022-01-20 02:37:00+00:00            OTHER OFFENSE   \n",
       "183528 2022-08-26 05:34:00+00:00            OTHER OFFENSE   \n",
       "\n",
       "                               description         location_description  \\\n",
       "0                      FIRST DEGREE MURDER                        ALLEY   \n",
       "1                      FIRST DEGREE MURDER                       STREET   \n",
       "2                           NON-AGGRAVATED                    RESIDENCE   \n",
       "3                          ARMED - HANDGUN                    RESIDENCE   \n",
       "4                          ARMED - HANDGUN                        ALLEY   \n",
       "...                                    ...                          ...   \n",
       "183524          RECKLESS FIREARM DISCHARGE                       STREET   \n",
       "183525          RECKLESS FIREARM DISCHARGE                       STREET   \n",
       "183526             HARASSMENT BY TELEPHONE                    APARTMENT   \n",
       "183527         VIOLATE ORDER OF PROTECTION           SMALL RETAIL STORE   \n",
       "183528  GUN OFFENDER - ANNUAL REGISTRATION  HOSPITAL BUILDING / GROUNDS   \n",
       "\n",
       "        arrest  domestic  district  month  \n",
       "0         True     False         5      4  \n",
       "1        False     False         5      1  \n",
       "2        False     False         5     10  \n",
       "3        False     False         5      7  \n",
       "4        False     False         5      9  \n",
       "...        ...       ...       ...    ...  \n",
       "183524   False     False        10     10  \n",
       "183525   False     False        10      5  \n",
       "183526   False      True        10      1  \n",
       "183527   False      True        10      1  \n",
       "183528    True     False        10      8  \n",
       "\n",
       "[183529 rows x 8 columns]"
      ]
     },
     "execution_count": 317,
     "metadata": {},
     "output_type": "execute_result"
    }
   ],
   "source": [
    "missing_value = [\"NaN\", \"N/A\", \"null\"]\n",
    "df_chicago.isnull().sum().sum()\n",
    "df_chicago.dropna(inplace = True)\n",
    "df_chicago.reset_index(drop=True, inplace=True)\n",
    "df_chicago"
   ]
  },
  {
   "cell_type": "markdown",
   "metadata": {},
   "source": [
    "After doing data cleaning, we have 183529 rows left, from 184037 rows. Means there are 508 rows that has missing values."
   ]
  },
  {
   "cell_type": "markdown",
   "metadata": {},
   "source": [
    "----"
   ]
  },
  {
   "cell_type": "markdown",
   "metadata": {},
   "source": [
    "## Data Exploration"
   ]
  },
  {
   "cell_type": "markdown",
   "metadata": {},
   "source": [
    "### 1. What are 5 crimes that occurred the most in Chicago city in the year 2022?"
   ]
  },
  {
   "cell_type": "code",
   "execution_count": 318,
   "metadata": {},
   "outputs": [
    {
     "data": {
      "text/html": [
       "<div>\n",
       "<style scoped>\n",
       "    .dataframe tbody tr th:only-of-type {\n",
       "        vertical-align: middle;\n",
       "    }\n",
       "\n",
       "    .dataframe tbody tr th {\n",
       "        vertical-align: top;\n",
       "    }\n",
       "\n",
       "    .dataframe thead th {\n",
       "        text-align: right;\n",
       "    }\n",
       "</style>\n",
       "<table border=\"1\" class=\"dataframe\">\n",
       "  <thead>\n",
       "    <tr style=\"text-align: right;\">\n",
       "      <th></th>\n",
       "      <th>index</th>\n",
       "      <th>jumlah</th>\n",
       "    </tr>\n",
       "  </thead>\n",
       "  <tbody>\n",
       "    <tr>\n",
       "      <th>0</th>\n",
       "      <td>THEFT</td>\n",
       "      <td>42779</td>\n",
       "    </tr>\n",
       "    <tr>\n",
       "      <th>1</th>\n",
       "      <td>BATTERY</td>\n",
       "      <td>33004</td>\n",
       "    </tr>\n",
       "    <tr>\n",
       "      <th>2</th>\n",
       "      <td>CRIMINAL DAMAGE</td>\n",
       "      <td>21123</td>\n",
       "    </tr>\n",
       "    <tr>\n",
       "      <th>3</th>\n",
       "      <td>ASSAULT</td>\n",
       "      <td>16630</td>\n",
       "    </tr>\n",
       "    <tr>\n",
       "      <th>4</th>\n",
       "      <td>MOTOR VEHICLE THEFT</td>\n",
       "      <td>14188</td>\n",
       "    </tr>\n",
       "  </tbody>\n",
       "</table>\n",
       "</div>"
      ],
      "text/plain": [
       "                 index  jumlah\n",
       "0                THEFT   42779\n",
       "1              BATTERY   33004\n",
       "2      CRIMINAL DAMAGE   21123\n",
       "3              ASSAULT   16630\n",
       "4  MOTOR VEHICLE THEFT   14188"
      ]
     },
     "execution_count": 318,
     "metadata": {},
     "output_type": "execute_result"
    }
   ],
   "source": [
    "most_crime = df_chicago['primary_type'].value_counts().head().to_frame()\n",
    "most_crime.columns=[\"jumlah\"]\n",
    "most_crime.reset_index(inplace=True)\n",
    "most_crime"
   ]
  },
  {
   "cell_type": "markdown",
   "metadata": {},
   "source": [
    "the data above shows the first 5 crimes that has highest accumulation value which means the crime happened the most. and I convert the data to dataframe so I can do further analysis."
   ]
  },
  {
   "cell_type": "code",
   "execution_count": 320,
   "metadata": {},
   "outputs": [
    {
     "data": {
      "text/plain": [
       "(array([0, 1, 2, 3, 4]),\n",
       " [Text(0, 0, 'THEFT'),\n",
       "  Text(1, 0, 'BATTERY'),\n",
       "  Text(2, 0, 'CRIMINAL DAMAGE'),\n",
       "  Text(3, 0, 'ASSAULT'),\n",
       "  Text(4, 0, 'MOTOR VEHICLE THEFT')])"
      ]
     },
     "execution_count": 320,
     "metadata": {},
     "output_type": "execute_result"
    },
    {
     "data": {
      "image/png": "[encoded data removed]",
      "text/plain": [
       "<Figure size 432x288 with 1 Axes>"
      ]
     },
     "metadata": {
      "needs_background": "light"
     },
     "output_type": "display_data"
    }
   ],
   "source": [
    "sns.barplot(data=most_crime, x=\"index\", y=\"jumlah\")\n",
    "plt.xticks(rotation=45)"
   ]
  },
  {
   "cell_type": "markdown",
   "metadata": {},
   "source": [
    "The chart above is showing the visualization of the data we just got, which is 5 crimes that happened the most in Chicago city in the year 2022. As we can see, THEFT has the highest total value, it means that THEFT is the most occured crime in Chicago city. and there's BATTERY as the second highest, followed by CRIMINAL DAMAGE, ASSAULT and MOTOR VEHICLE THEFT."
   ]
  },
  {
   "cell_type": "code",
   "execution_count": 321,
   "metadata": {},
   "outputs": [],
   "source": [
    "most_crime.to_csv('df1.csv', index=False)"
   ]
  },
  {
   "cell_type": "markdown",
   "metadata": {},
   "source": [
    "----"
   ]
  },
  {
   "cell_type": "markdown",
   "metadata": {},
   "source": [
    "### 2. What are 3 districts that occurred crimes the most in Chicago in the year 2022?"
   ]
  },
  {
   "cell_type": "code",
   "execution_count": 409,
   "metadata": {},
   "outputs": [
    {
     "data": {
      "text/html": [
       "<div>\n",
       "<style scoped>\n",
       "    .dataframe tbody tr th:only-of-type {\n",
       "        vertical-align: middle;\n",
       "    }\n",
       "\n",
       "    .dataframe tbody tr th {\n",
       "        vertical-align: top;\n",
       "    }\n",
       "\n",
       "    .dataframe thead th {\n",
       "        text-align: right;\n",
       "    }\n",
       "</style>\n",
       "<table border=\"1\" class=\"dataframe\">\n",
       "  <thead>\n",
       "    <tr style=\"text-align: right;\">\n",
       "      <th></th>\n",
       "      <th>index</th>\n",
       "      <th>jumlah</th>\n",
       "    </tr>\n",
       "  </thead>\n",
       "  <tbody>\n",
       "    <tr>\n",
       "      <th>0</th>\n",
       "      <td>6</td>\n",
       "      <td>11342</td>\n",
       "    </tr>\n",
       "    <tr>\n",
       "      <th>1</th>\n",
       "      <td>8</td>\n",
       "      <td>11240</td>\n",
       "    </tr>\n",
       "    <tr>\n",
       "      <th>2</th>\n",
       "      <td>4</td>\n",
       "      <td>10748</td>\n",
       "    </tr>\n",
       "  </tbody>\n",
       "</table>\n",
       "</div>"
      ],
      "text/plain": [
       "   index  jumlah\n",
       "0      6   11342\n",
       "1      8   11240\n",
       "2      4   10748"
      ]
     },
     "execution_count": 409,
     "metadata": {},
     "output_type": "execute_result"
    }
   ],
   "source": [
    "district = df_chicago['district'].value_counts().head(3).to_frame()\n",
    "district.columns=[\"jumlah\"]\n",
    "district.reset_index(inplace=True)\n",
    "\n",
    "district"
   ]
  },
  {
   "cell_type": "markdown",
   "metadata": {},
   "source": [
    "From the result we got above, we can see that district 6, 8 and 4 are the 3 districts that have crime occurred the most. "
   ]
  },
  {
   "cell_type": "code",
   "execution_count": 410,
   "metadata": {},
   "outputs": [
    {
     "data": {
      "text/plain": [
       "(array([0, 1, 2]), [Text(0, 0, '4'), Text(1, 0, '6'), Text(2, 0, '8')])"
      ]
     },
     "execution_count": 410,
     "metadata": {},
     "output_type": "execute_result"
    },
    {
     "data": {
      "image/png": "[encoded data removed]",
      "text/plain": [
       "<Figure size 432x288 with 1 Axes>"
      ]
     },
     "metadata": {
      "needs_background": "light"
     },
     "output_type": "display_data"
    }
   ],
   "source": [
    "sns.barplot(data=district, x=\"index\", y=\"jumlah\")\n",
    "plt.xticks(rotation=0)"
   ]
  },
  {
   "cell_type": "markdown",
   "metadata": {},
   "source": [
    "The bar plot above shows us the graph of 3 district that have crime occured the most. We also can tell that the difference is not significant.\n",
    "- District 6 = 11342 cases\n",
    "- District 8 = 11240 cases\n",
    "- District 4 = 10748 cases"
   ]
  },
  {
   "cell_type": "code",
   "execution_count": 325,
   "metadata": {},
   "outputs": [],
   "source": [
    "district.to_csv(\"df2.csv\", index=False)"
   ]
  },
  {
   "cell_type": "markdown",
   "metadata": {},
   "source": [
    "---"
   ]
  },
  {
   "cell_type": "markdown",
   "metadata": {},
   "source": [
    "### 3. How many theft cases occurred in the 3 districts with the most theft crimes in 2022?"
   ]
  },
  {
   "cell_type": "code",
   "execution_count": 326,
   "metadata": {},
   "outputs": [
    {
     "data": {
      "text/html": [
       "<div>\n",
       "<style scoped>\n",
       "    .dataframe tbody tr th:only-of-type {\n",
       "        vertical-align: middle;\n",
       "    }\n",
       "\n",
       "    .dataframe tbody tr th {\n",
       "        vertical-align: top;\n",
       "    }\n",
       "\n",
       "    .dataframe thead th {\n",
       "        text-align: right;\n",
       "    }\n",
       "</style>\n",
       "<table border=\"1\" class=\"dataframe\">\n",
       "  <thead>\n",
       "    <tr style=\"text-align: right;\">\n",
       "      <th></th>\n",
       "      <th>date</th>\n",
       "      <th>primary_type</th>\n",
       "      <th>description</th>\n",
       "      <th>location_description</th>\n",
       "      <th>arrest</th>\n",
       "      <th>domestic</th>\n",
       "      <th>district</th>\n",
       "      <th>month</th>\n",
       "    </tr>\n",
       "  </thead>\n",
       "  <tbody>\n",
       "    <tr>\n",
       "      <th>38</th>\n",
       "      <td>2022-01-03 12:00:00+00:00</td>\n",
       "      <td>THEFT</td>\n",
       "      <td>OVER $500</td>\n",
       "      <td>STREET</td>\n",
       "      <td>False</td>\n",
       "      <td>False</td>\n",
       "      <td>5</td>\n",
       "      <td>1</td>\n",
       "    </tr>\n",
       "    <tr>\n",
       "      <th>39</th>\n",
       "      <td>2022-06-30 04:15:00+00:00</td>\n",
       "      <td>THEFT</td>\n",
       "      <td>OVER $500</td>\n",
       "      <td>STREET</td>\n",
       "      <td>False</td>\n",
       "      <td>False</td>\n",
       "      <td>5</td>\n",
       "      <td>6</td>\n",
       "    </tr>\n",
       "    <tr>\n",
       "      <th>40</th>\n",
       "      <td>2022-09-11 12:00:00+00:00</td>\n",
       "      <td>THEFT</td>\n",
       "      <td>OVER $500</td>\n",
       "      <td>RESIDENCE</td>\n",
       "      <td>False</td>\n",
       "      <td>True</td>\n",
       "      <td>5</td>\n",
       "      <td>9</td>\n",
       "    </tr>\n",
       "    <tr>\n",
       "      <th>41</th>\n",
       "      <td>2022-05-18 11:52:00+00:00</td>\n",
       "      <td>THEFT</td>\n",
       "      <td>OVER $500</td>\n",
       "      <td>STREET</td>\n",
       "      <td>True</td>\n",
       "      <td>False</td>\n",
       "      <td>5</td>\n",
       "      <td>5</td>\n",
       "    </tr>\n",
       "    <tr>\n",
       "      <th>42</th>\n",
       "      <td>2022-08-05 02:30:00+00:00</td>\n",
       "      <td>THEFT</td>\n",
       "      <td>$500 AND UNDER</td>\n",
       "      <td>RESIDENCE</td>\n",
       "      <td>False</td>\n",
       "      <td>False</td>\n",
       "      <td>5</td>\n",
       "      <td>8</td>\n",
       "    </tr>\n",
       "    <tr>\n",
       "      <th>...</th>\n",
       "      <td>...</td>\n",
       "      <td>...</td>\n",
       "      <td>...</td>\n",
       "      <td>...</td>\n",
       "      <td>...</td>\n",
       "      <td>...</td>\n",
       "      <td>...</td>\n",
       "      <td>...</td>\n",
       "    </tr>\n",
       "    <tr>\n",
       "      <th>183507</th>\n",
       "      <td>2022-06-19 12:00:00+00:00</td>\n",
       "      <td>THEFT</td>\n",
       "      <td>$500 AND UNDER</td>\n",
       "      <td>STREET</td>\n",
       "      <td>False</td>\n",
       "      <td>False</td>\n",
       "      <td>10</td>\n",
       "      <td>6</td>\n",
       "    </tr>\n",
       "    <tr>\n",
       "      <th>183508</th>\n",
       "      <td>2022-08-22 12:00:00+00:00</td>\n",
       "      <td>THEFT</td>\n",
       "      <td>$500 AND UNDER</td>\n",
       "      <td>SMALL RETAIL STORE</td>\n",
       "      <td>False</td>\n",
       "      <td>False</td>\n",
       "      <td>10</td>\n",
       "      <td>8</td>\n",
       "    </tr>\n",
       "    <tr>\n",
       "      <th>183509</th>\n",
       "      <td>2022-03-03 11:30:00+00:00</td>\n",
       "      <td>THEFT</td>\n",
       "      <td>FROM BUILDING</td>\n",
       "      <td>OTHER (SPECIFY)</td>\n",
       "      <td>False</td>\n",
       "      <td>False</td>\n",
       "      <td>10</td>\n",
       "      <td>3</td>\n",
       "    </tr>\n",
       "    <tr>\n",
       "      <th>183510</th>\n",
       "      <td>2022-03-04 08:00:00+00:00</td>\n",
       "      <td>THEFT</td>\n",
       "      <td>FROM BUILDING</td>\n",
       "      <td>APARTMENT</td>\n",
       "      <td>False</td>\n",
       "      <td>False</td>\n",
       "      <td>10</td>\n",
       "      <td>3</td>\n",
       "    </tr>\n",
       "    <tr>\n",
       "      <th>183511</th>\n",
       "      <td>2022-03-03 11:00:00+00:00</td>\n",
       "      <td>THEFT</td>\n",
       "      <td>FROM BUILDING</td>\n",
       "      <td>OTHER (SPECIFY)</td>\n",
       "      <td>False</td>\n",
       "      <td>False</td>\n",
       "      <td>10</td>\n",
       "      <td>3</td>\n",
       "    </tr>\n",
       "  </tbody>\n",
       "</table>\n",
       "<p>42779 rows × 8 columns</p>\n",
       "</div>"
      ],
      "text/plain": [
       "                            date primary_type     description  \\\n",
       "38     2022-01-03 12:00:00+00:00        THEFT       OVER $500   \n",
       "39     2022-06-30 04:15:00+00:00        THEFT       OVER $500   \n",
       "40     2022-09-11 12:00:00+00:00        THEFT       OVER $500   \n",
       "41     2022-05-18 11:52:00+00:00        THEFT       OVER $500   \n",
       "42     2022-08-05 02:30:00+00:00        THEFT  $500 AND UNDER   \n",
       "...                          ...          ...             ...   \n",
       "183507 2022-06-19 12:00:00+00:00        THEFT  $500 AND UNDER   \n",
       "183508 2022-08-22 12:00:00+00:00        THEFT  $500 AND UNDER   \n",
       "183509 2022-03-03 11:30:00+00:00        THEFT   FROM BUILDING   \n",
       "183510 2022-03-04 08:00:00+00:00        THEFT   FROM BUILDING   \n",
       "183511 2022-03-03 11:00:00+00:00        THEFT   FROM BUILDING   \n",
       "\n",
       "       location_description  arrest  domestic  district  month  \n",
       "38                   STREET   False     False         5      1  \n",
       "39                   STREET   False     False         5      6  \n",
       "40                RESIDENCE   False      True         5      9  \n",
       "41                   STREET    True     False         5      5  \n",
       "42                RESIDENCE   False     False         5      8  \n",
       "...                     ...     ...       ...       ...    ...  \n",
       "183507               STREET   False     False        10      6  \n",
       "183508   SMALL RETAIL STORE   False     False        10      8  \n",
       "183509      OTHER (SPECIFY)   False     False        10      3  \n",
       "183510            APARTMENT   False     False        10      3  \n",
       "183511      OTHER (SPECIFY)   False     False        10      3  \n",
       "\n",
       "[42779 rows x 8 columns]"
      ]
     },
     "execution_count": 326,
     "metadata": {},
     "output_type": "execute_result"
    }
   ],
   "source": [
    "theft_crime = df_chicago[df_chicago[\"primary_type\"] == \"THEFT\"]\n",
    "theft_crime[\"district\"].value_counts().head(3)\n",
    "theft_crime"
   ]
  },
  {
   "cell_type": "code",
   "execution_count": 327,
   "metadata": {},
   "outputs": [
    {
     "data": {
      "text/plain": [
       "1     3964\n",
       "18    3924\n",
       "19    3698\n",
       "Name: district, dtype: int64"
      ]
     },
     "execution_count": 327,
     "metadata": {},
     "output_type": "execute_result"
    }
   ],
   "source": [
    "theft_crime[\"district\"].value_counts().head(3)"
   ]
  },
  {
   "cell_type": "markdown",
   "metadata": {},
   "source": [
    "To find 3 district with the most theft crime cases occurred, I specify the \"primary_type\" only for THEFT type. Then use value_counts with head(3) to show which districts have the highest value of total theft happening. From the data above, those districts are:\n",
    "- District 1 = 3964 cases\n",
    "- District 18 = 3924 cases\n",
    "- District 19 = 3698 cases\n",
    "\n",
    "District 1 has the highest total number of theft crime cases. "
   ]
  },
  {
   "cell_type": "code",
   "execution_count": 328,
   "metadata": {},
   "outputs": [],
   "source": [
    "most_district = theft_crime[(theft_crime['district'] == 1) | (theft_crime['district'] == 18) | (theft_crime[\"district\"] == 19)]\n",
    "dist = most_district.groupby(by=[\"month\", \"primary_type\", \"district\"])[[\"date\"]].count()\n",
    "dist.reset_index(inplace=True)\n",
    "dist.rename(columns={\"date\": \"value\"}, inplace=True)"
   ]
  },
  {
   "cell_type": "code",
   "execution_count": 329,
   "metadata": {},
   "outputs": [
    {
     "data": {
      "text/plain": [
       "<AxesSubplot:xlabel='month', ylabel='value'>"
      ]
     },
     "execution_count": 329,
     "metadata": {},
     "output_type": "execute_result"
    },
    {
     "data": {
      "image/png": "[encoded data removed]",
      "text/plain": [
       "<Figure size 432x288 with 1 Axes>"
      ]
     },
     "metadata": {
      "needs_background": "light"
     },
     "output_type": "display_data"
    }
   ],
   "source": [
    "sns.lineplot(data=dist, x=\"month\", y=\"value\", hue=\"district\")"
   ]
  },
  {
   "cell_type": "markdown",
   "metadata": {},
   "source": [
    "To show the visualization, first thing I did is filter the specific value of district that I want to use which is 1, 18 and 19.\n",
    "From the chart above, we can see that the difference of district 18 and 19 is not significant. But if we look at district 1 line, there's an extreme increase on month 7. then it decreased extremely onwards."
   ]
  },
  {
   "cell_type": "code",
   "execution_count": 330,
   "metadata": {},
   "outputs": [],
   "source": [
    "dist.to_csv(\"df3.csv\", index=False)"
   ]
  },
  {
   "cell_type": "markdown",
   "metadata": {},
   "source": [
    "---"
   ]
  },
  {
   "cell_type": "markdown",
   "metadata": {},
   "source": [
    "### 4. What type of theft has happened the most in district 1?"
   ]
  },
  {
   "cell_type": "code",
   "execution_count": 331,
   "metadata": {},
   "outputs": [
    {
     "data": {
      "text/html": [
       "<div>\n",
       "<style scoped>\n",
       "    .dataframe tbody tr th:only-of-type {\n",
       "        vertical-align: middle;\n",
       "    }\n",
       "\n",
       "    .dataframe tbody tr th {\n",
       "        vertical-align: top;\n",
       "    }\n",
       "\n",
       "    .dataframe thead th {\n",
       "        text-align: right;\n",
       "    }\n",
       "</style>\n",
       "<table border=\"1\" class=\"dataframe\">\n",
       "  <thead>\n",
       "    <tr style=\"text-align: right;\">\n",
       "      <th></th>\n",
       "      <th>district</th>\n",
       "      <th>description</th>\n",
       "      <th>value</th>\n",
       "    </tr>\n",
       "  </thead>\n",
       "  <tbody>\n",
       "    <tr>\n",
       "      <th>0</th>\n",
       "      <td>1</td>\n",
       "      <td>RETAIL THEFT</td>\n",
       "      <td>1099</td>\n",
       "    </tr>\n",
       "    <tr>\n",
       "      <th>1</th>\n",
       "      <td>1</td>\n",
       "      <td>OVER $500</td>\n",
       "      <td>1074</td>\n",
       "    </tr>\n",
       "    <tr>\n",
       "      <th>2</th>\n",
       "      <td>1</td>\n",
       "      <td>$500 AND UNDER</td>\n",
       "      <td>858</td>\n",
       "    </tr>\n",
       "    <tr>\n",
       "      <th>3</th>\n",
       "      <td>1</td>\n",
       "      <td>POCKET-PICKING</td>\n",
       "      <td>536</td>\n",
       "    </tr>\n",
       "    <tr>\n",
       "      <th>4</th>\n",
       "      <td>1</td>\n",
       "      <td>FROM BUILDING</td>\n",
       "      <td>345</td>\n",
       "    </tr>\n",
       "    <tr>\n",
       "      <th>5</th>\n",
       "      <td>1</td>\n",
       "      <td>PURSE-SNATCHING</td>\n",
       "      <td>29</td>\n",
       "    </tr>\n",
       "    <tr>\n",
       "      <th>6</th>\n",
       "      <td>1</td>\n",
       "      <td>ATTEMPT THEFT</td>\n",
       "      <td>21</td>\n",
       "    </tr>\n",
       "    <tr>\n",
       "      <th>7</th>\n",
       "      <td>1</td>\n",
       "      <td>DELIVERY CONTAINER THEFT</td>\n",
       "      <td>2</td>\n",
       "    </tr>\n",
       "  </tbody>\n",
       "</table>\n",
       "</div>"
      ],
      "text/plain": [
       "   district               description  value\n",
       "0         1              RETAIL THEFT   1099\n",
       "1         1                 OVER $500   1074\n",
       "2         1            $500 AND UNDER    858\n",
       "3         1            POCKET-PICKING    536\n",
       "4         1             FROM BUILDING    345\n",
       "5         1           PURSE-SNATCHING     29\n",
       "6         1             ATTEMPT THEFT     21\n",
       "7         1  DELIVERY CONTAINER THEFT      2"
      ]
     },
     "execution_count": 331,
     "metadata": {},
     "output_type": "execute_result"
    }
   ],
   "source": [
    "dist_1 = theft_crime[theft_crime[\"district\"] == 1]\n",
    "district1 = dist_1.groupby(by=[\"district\"])[[\"description\"]].value_counts().to_frame()\n",
    "district1.reset_index(inplace=True)\n",
    "district1.columns=[\"district\", \"description\", \"value\"]\n",
    "district1"
   ]
  },
  {
   "cell_type": "code",
   "execution_count": 332,
   "metadata": {},
   "outputs": [
    {
     "data": {
      "text/plain": [
       "<AxesSubplot:xlabel='value', ylabel='description'>"
      ]
     },
     "execution_count": 332,
     "metadata": {},
     "output_type": "execute_result"
    },
    {
     "data": {
      "image/png": "[encoded data removed]",
      "text/plain": [
       "<Figure size 432x288 with 1 Axes>"
      ]
     },
     "metadata": {
      "needs_background": "light"
     },
     "output_type": "display_data"
    }
   ],
   "source": [
    "sns.barplot(data=district1, x=\"value\", y=\"description\")"
   ]
  },
  {
   "cell_type": "markdown",
   "metadata": {},
   "source": [
    "To get the data above, the first thing I do is specify the district value to district 1. After we do more analysis and got the new table with description and its value, we can show the chart. \n",
    "Based on the bar chat we just got, we can see that RETAIL THEFT is the theft crime type that occurred the most on district 1, which 1099 cases, followed by OVER $500 for 1074 cases."
   ]
  },
  {
   "cell_type": "code",
   "execution_count": 333,
   "metadata": {},
   "outputs": [],
   "source": [
    "district1.to_csv(\"df4.csv\", index=False)"
   ]
  },
  {
   "cell_type": "markdown",
   "metadata": {},
   "source": [
    "---"
   ]
  },
  {
   "cell_type": "markdown",
   "metadata": {},
   "source": [
    "### 5. What is the mean, median and mode of theft cases from overall and from 3 districts with the most theft crimes?\n",
    "\n",
    "Central Tendency\n",
    "\n",
    "- Analyze the central tendency from theft crime cases from overall data\n",
    "- Analyze the central tendency from 3 districts that have the most theft crime cases\n"
   ]
  },
  {
   "cell_type": "markdown",
   "metadata": {},
   "source": [
    "### a. Central Tendency From Theft Crime Cases from Overall Data"
   ]
  },
  {
   "cell_type": "code",
   "execution_count": 334,
   "metadata": {},
   "outputs": [],
   "source": [
    "total = theft_crime.groupby(by=[\"month\", \"primary_type\", \"district\"])[[\"date\"]].count()\n",
    "total.reset_index(inplace=True)\n",
    "total.rename(columns={\"date\": \"value\"}, inplace=True)"
   ]
  },
  {
   "cell_type": "code",
   "execution_count": 335,
   "metadata": {},
   "outputs": [
    {
     "name": "stdout",
     "output_type": "stream",
     "text": [
      "The average value of theft crimes from all district is:  194.45\n"
     ]
    }
   ],
   "source": [
    "#Mean\n",
    "a = total[\"value\"].mean()\n",
    "\n",
    "print(f\"The average value of theft crimes from all district is: \", a)"
   ]
  },
  {
   "cell_type": "code",
   "execution_count": 336,
   "metadata": {},
   "outputs": [
    {
     "name": "stdout",
     "output_type": "stream",
     "text": [
      "The median value of theft crimes from all district is:  161.5\n"
     ]
    }
   ],
   "source": [
    "#Median\n",
    "b = total[\"value\"].median()\n",
    "\n",
    "print(f\"The median value of theft crimes from all district is: \", b)"
   ]
  },
  {
   "cell_type": "code",
   "execution_count": 337,
   "metadata": {},
   "outputs": [
    {
     "name": "stdout",
     "output_type": "stream",
     "text": [
      "The mode of district from theft crimes :  0    1\n",
      "Name: district, dtype: int64\n"
     ]
    }
   ],
   "source": [
    "#Mode\n",
    "c = theft_crime['district'].mode()\n",
    "\n",
    "print(f\"The mode of district from theft crimes : \", c)"
   ]
  },
  {
   "cell_type": "markdown",
   "metadata": {},
   "source": [
    "From the data we just analyze, the central tendency of theft crime cases from overall data are:\n",
    "- Mean = 194.45\n",
    "- Median = 161.5\n",
    "- Mode = District 1"
   ]
  },
  {
   "cell_type": "markdown",
   "metadata": {},
   "source": [
    "### b. Central Tendency from 3 Districts Which Have the Most Theft Crime Cases"
   ]
  },
  {
   "cell_type": "code",
   "execution_count": 338,
   "metadata": {},
   "outputs": [
    {
     "name": "stdout",
     "output_type": "stream",
     "text": [
      "The average value of theft crimes from 3 districts with the most crimes cases is :  386.2\n"
     ]
    }
   ],
   "source": [
    "#Mean\n",
    "d = dist[\"value\"].mean()\n",
    "\n",
    "print(f\"The average value of theft crimes from 3 districts with the most crimes cases is : \", d)"
   ]
  },
  {
   "cell_type": "code",
   "execution_count": 339,
   "metadata": {},
   "outputs": [
    {
     "name": "stdout",
     "output_type": "stream",
     "text": [
      "The median value of theft crimes from 3 districts with the most crimes cases is :  374.0\n"
     ]
    }
   ],
   "source": [
    "#Median\n",
    "e = dist[\"value\"].median()\n",
    "\n",
    "print(f\"The median value of theft crimes from 3 districts with the most crimes cases is : \", e)"
   ]
  },
  {
   "cell_type": "code",
   "execution_count": 340,
   "metadata": {},
   "outputs": [
    {
     "name": "stdout",
     "output_type": "stream",
     "text": [
      "The mode value of 3 districts with the most crimes cases is :  0    313\n",
      "1    408\n",
      "2    509\n",
      "Name: value, dtype: int64\n"
     ]
    }
   ],
   "source": [
    "f = dist[\"value\"].mode()\n",
    "\n",
    "print(f\"The mode value of 3 districts with the most crimes cases is : \", f)"
   ]
  },
  {
   "cell_type": "markdown",
   "metadata": {},
   "source": [
    "From the data we just analyze, the central tendency of 3 districts which have the most theft crime cases are:\n",
    "- Mean = 386.2\n",
    "- Median = 374.0\n",
    "- Mode = 313"
   ]
  },
  {
   "cell_type": "markdown",
   "metadata": {},
   "source": [
    "---"
   ]
  },
  {
   "cell_type": "markdown",
   "metadata": {},
   "source": [
    "## 6. The influence of district on the arrest status in district 1 (ANOVA TESTING)"
   ]
  },
  {
   "cell_type": "code",
   "execution_count": 411,
   "metadata": {},
   "outputs": [],
   "source": [
    "a1 = theft_crime[(theft_crime['district'] == 1) | (theft_crime['district'] == 18) | (theft_crime[\"district\"] == 19)]"
   ]
  },
  {
   "cell_type": "code",
   "execution_count": 412,
   "metadata": {},
   "outputs": [
    {
     "data": {
      "text/html": [
       "<div>\n",
       "<style scoped>\n",
       "    .dataframe tbody tr th:only-of-type {\n",
       "        vertical-align: middle;\n",
       "    }\n",
       "\n",
       "    .dataframe tbody tr th {\n",
       "        vertical-align: top;\n",
       "    }\n",
       "\n",
       "    .dataframe thead th {\n",
       "        text-align: right;\n",
       "    }\n",
       "</style>\n",
       "<table border=\"1\" class=\"dataframe\">\n",
       "  <thead>\n",
       "    <tr style=\"text-align: right;\">\n",
       "      <th></th>\n",
       "      <th>arrest</th>\n",
       "      <th>district</th>\n",
       "      <th>value</th>\n",
       "    </tr>\n",
       "  </thead>\n",
       "  <tbody>\n",
       "    <tr>\n",
       "      <th>0</th>\n",
       "      <td>False</td>\n",
       "      <td>1</td>\n",
       "      <td>3690</td>\n",
       "    </tr>\n",
       "    <tr>\n",
       "      <th>1</th>\n",
       "      <td>False</td>\n",
       "      <td>18</td>\n",
       "      <td>3690</td>\n",
       "    </tr>\n",
       "    <tr>\n",
       "      <th>2</th>\n",
       "      <td>False</td>\n",
       "      <td>19</td>\n",
       "      <td>3586</td>\n",
       "    </tr>\n",
       "    <tr>\n",
       "      <th>3</th>\n",
       "      <td>True</td>\n",
       "      <td>1</td>\n",
       "      <td>274</td>\n",
       "    </tr>\n",
       "    <tr>\n",
       "      <th>4</th>\n",
       "      <td>True</td>\n",
       "      <td>18</td>\n",
       "      <td>234</td>\n",
       "    </tr>\n",
       "    <tr>\n",
       "      <th>5</th>\n",
       "      <td>True</td>\n",
       "      <td>19</td>\n",
       "      <td>112</td>\n",
       "    </tr>\n",
       "  </tbody>\n",
       "</table>\n",
       "</div>"
      ],
      "text/plain": [
       "   arrest  district  value\n",
       "0   False         1   3690\n",
       "1   False        18   3690\n",
       "2   False        19   3586\n",
       "3    True         1    274\n",
       "4    True        18    234\n",
       "5    True        19    112"
      ]
     },
     "execution_count": 412,
     "metadata": {},
     "output_type": "execute_result"
    }
   ],
   "source": [
    "a2 = a1.groupby(by=[\"arrest\", \"district\"])[[\"date\"]].count()\n",
    "a2.reset_index(inplace=True)\n",
    "a2.rename(columns={\"date\": \"value\"}, inplace=True)\n",
    "a2"
   ]
  },
  {
   "cell_type": "markdown",
   "metadata": {},
   "source": [
    "Before I analyze any further, I specify the district value that I need, which is district 1, 18 and 19.Then after some analysis, I got the total value based on the arrest status on each district. \n",
    "- District 1 =\n",
    "    - False = 3690\n",
    "    - True = 274\n",
    "- District 18 =\n",
    "    - False = 3690\n",
    "    - True = 234\n",
    "- District 19 =\n",
    "    - False = 3586\n",
    "    - True = 112"
   ]
  },
  {
   "cell_type": "code",
   "execution_count": 352,
   "metadata": {},
   "outputs": [
    {
     "data": {
      "text/html": [
       "<div>\n",
       "<style scoped>\n",
       "    .dataframe tbody tr th:only-of-type {\n",
       "        vertical-align: middle;\n",
       "    }\n",
       "\n",
       "    .dataframe tbody tr th {\n",
       "        vertical-align: top;\n",
       "    }\n",
       "\n",
       "    .dataframe thead th {\n",
       "        text-align: right;\n",
       "    }\n",
       "</style>\n",
       "<table border=\"1\" class=\"dataframe\">\n",
       "  <thead>\n",
       "    <tr style=\"text-align: right;\">\n",
       "      <th>district</th>\n",
       "      <th>1</th>\n",
       "      <th>18</th>\n",
       "      <th>19</th>\n",
       "    </tr>\n",
       "    <tr>\n",
       "      <th>arrest</th>\n",
       "      <th></th>\n",
       "      <th></th>\n",
       "      <th></th>\n",
       "    </tr>\n",
       "  </thead>\n",
       "  <tbody>\n",
       "    <tr>\n",
       "      <th>False</th>\n",
       "      <td>3690</td>\n",
       "      <td>3690</td>\n",
       "      <td>3586</td>\n",
       "    </tr>\n",
       "    <tr>\n",
       "      <th>True</th>\n",
       "      <td>274</td>\n",
       "      <td>234</td>\n",
       "      <td>112</td>\n",
       "    </tr>\n",
       "  </tbody>\n",
       "</table>\n",
       "</div>"
      ],
      "text/plain": [
       "district    1     18    19\n",
       "arrest                    \n",
       "False     3690  3690  3586\n",
       "True       274   234   112"
      ]
     },
     "execution_count": 352,
     "metadata": {},
     "output_type": "execute_result"
    }
   ],
   "source": [
    "contingency = pd.crosstab(a1[\"arrest\"], a1[\"district\"])\n",
    "contingency"
   ]
  },
  {
   "cell_type": "code",
   "execution_count": 421,
   "metadata": {},
   "outputs": [
    {
     "data": {
      "text/plain": [
       "<AxesSubplot:xlabel='district', ylabel='value'>"
      ]
     },
     "execution_count": 421,
     "metadata": {},
     "output_type": "execute_result"
    },
    {
     "data": {
      "image/png": "[encoded data removed]",
      "text/plain": [
       "<Figure size 720x432 with 1 Axes>"
      ]
     },
     "metadata": {
      "needs_background": "light"
     },
     "output_type": "display_data"
    }
   ],
   "source": [
    "plt.figure(figsize=(10,6))\n",
    "sns.barplot(x='district',y='value', hue='arrest', data=a2)\n",
    "#plt.xticks(rotation=90)"
   ]
  },
  {
   "cell_type": "code",
   "execution_count": 422,
   "metadata": {},
   "outputs": [],
   "source": [
    "a2.to_csv(\"df5.csv\", index=False)"
   ]
  },
  {
   "cell_type": "markdown",
   "metadata": {},
   "source": [
    "Based on the visualization above, it shows that district 1, 18 and 19 have a difference which is not significant with one another. I tried to find whether the district columns and arrest columns are related or not using chi-square methode."
   ]
  },
  {
   "cell_type": "code",
   "execution_count": 415,
   "metadata": {},
   "outputs": [
    {
     "name": "stderr",
     "output_type": "stream",
     "text": [
      "C:\\Users\\jovan\\AppData\\Local\\Temp\\ipykernel_22980\\1165523854.py:1: SettingWithCopyWarning: \n",
      "A value is trying to be set on a copy of a slice from a DataFrame.\n",
      "Try using .loc[row_indexer,col_indexer] = value instead\n",
      "\n",
      "See the caveats in the documentation: https://pandas.pydata.org/pandas-docs/stable/user_guide/indexing.html#returning-a-view-versus-a-copy\n",
      "  a1['arrest'] = a1['arrest'].replace({True:1,False:0})\n",
      "C:\\Users\\jovan\\AppData\\Local\\Temp\\ipykernel_22980\\1165523854.py:2: SettingWithCopyWarning: \n",
      "A value is trying to be set on a copy of a slice from a DataFrame.\n",
      "Try using .loc[row_indexer,col_indexer] = value instead\n",
      "\n",
      "See the caveats in the documentation: https://pandas.pydata.org/pandas-docs/stable/user_guide/indexing.html#returning-a-view-versus-a-copy\n",
      "  a1['date'] = a1['date'].dt.date\n"
     ]
    }
   ],
   "source": [
    "a1['arrest'] = a1['arrest'].replace({True:1,False:0})\n",
    "a1['date'] = a1['date'].dt.date"
   ]
  },
  {
   "cell_type": "code",
   "execution_count": 417,
   "metadata": {},
   "outputs": [
    {
     "name": "stdout",
     "output_type": "stream",
     "text": [
      "0.9448275862068966\n",
      "0.8068965517241379\n",
      "0.38620689655172413\n"
     ]
    }
   ],
   "source": [
    "data1 = a1[a1.district == 1].groupby('date')['arrest'].sum()\n",
    "data2 = a1[a1.district == 18].groupby('date')['arrest'].sum()\n",
    "data3 = a1[a1.district == 19].groupby('date')['arrest'].sum()\n",
    "\n",
    "print(data1.mean())\n",
    "print(data2.mean())\n",
    "print(data3.mean())"
   ]
  },
  {
   "cell_type": "markdown",
   "metadata": {},
   "source": [
    "### H0 : data1 = data2 = data3\n",
    "\n",
    "### H1 : data1 != data2 != data3"
   ]
  },
  {
   "cell_type": "code",
   "execution_count": 388,
   "metadata": {},
   "outputs": [
    {
     "name": "stdout",
     "output_type": "stream",
     "text": [
      "P-value: 1.850782353002006e-14\n"
     ]
    }
   ],
   "source": [
    "f_stat,p_value = stats.f_oneway(data1, data2, data3)\n",
    "print('P-value:',p_value)"
   ]
  },
  {
   "cell_type": "code",
   "execution_count": 418,
   "metadata": {},
   "outputs": [
    {
     "name": "stdout",
     "output_type": "stream",
     "text": [
      "p=0.000\n",
      "Berpengaruh\n"
     ]
    }
   ],
   "source": [
    "stat, p, dof, expected = stats.chi2_contingency(contingency)\n",
    "print('p=%.3f' %(p))\n",
    "if p <= 0.05:\n",
    "    print(\"Berpengaruh\")\n",
    "else:\n",
    "    print(\"Tidak berpengaruh\")"
   ]
  },
  {
   "cell_type": "markdown",
   "metadata": {},
   "source": [
    "Based on the data visualization we got before, the difference between district 1, 18 and 19 is not significant. But after we do the analysis using ANOVA testing, the analysis result showing that the difference between those 3 districts are significant. It showed from the mean value from each district data we just got."
   ]
  },
  {
   "cell_type": "markdown",
   "metadata": {},
   "source": [
    "---"
   ]
  },
  {
   "cell_type": "markdown",
   "metadata": {},
   "source": [
    "## ANALYSIS AND CONCLUSION"
   ]
  },
  {
   "cell_type": "markdown",
   "metadata": {},
   "source": [
    "From overall data, \"THEFT\" is the most occurred crime in Chicago in the year 2022 with total 42779 cases. Meanwhile, district 6 is district that has the most crime occurreed in Chicago in year 2022 with total 11342 cases reported.\n",
    "\n",
    "But after we analyze further, district 1 is district that has the most theft crime cases occurred with 3964 cases in the year 2022. Then we also got another result by finding out about which theft crime type occurred the most in district 1 with 1099 cases of RETAIL THEFT.\n",
    "\n",
    "Last but not least, I analyzed the influence of district based on the arrest status in district 1 using ANOVA testing, at first I do data visualization and find out that the difference of each district is not significant. But after doing ANOVA testing, turned out the difference of each districts are significant.\n",
    "\n",
    "From the analysis we just done, we can conclude that district 19 is the most safest district if we see it based on the theft crime cases value, compared to the other 2 district (1 and 18).\n",
    "\n",
    "The amount of crime cases that happened in Chicago city can be evaluations for the government and the citizen to increase the safety and look out for each other to lower the number of crime that's happening.\n"
   ]
  }
 ],
 "metadata": {
  "kernelspec": {
   "display_name": "Python 3.9.12 ('base')",
   "language": "python",
   "name": "python3"
  },
  "language_info": {
   "codemirror_mode": {
    "name": "ipython",
    "version": 3
   },
   "file_extension": ".py",
   "mimetype": "text/x-python",
   "name": "python",
   "nbconvert_exporter": "python",
   "pygments_lexer": "ipython3",
   "version": "3.9.12"
  },
  "orig_nbformat": 4,
  "vscode": {
   "interpreter": {
    "hash": "02118d29446500a657f5b3855eda0ac677d9a316b2936ab05cc979eff8cd544a"
   }
  }
 },
 "nbformat": 4,
 "nbformat_minor": 2
}
